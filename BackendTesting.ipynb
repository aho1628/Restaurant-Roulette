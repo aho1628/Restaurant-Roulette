{
 "cells": [
  {
   "cell_type": "code",
   "execution_count": 2,
   "metadata": {},
   "outputs": [],
   "source": [
    "import requests\n",
    "import json"
   ]
  },
  {
   "cell_type": "code",
   "execution_count": 3,
   "metadata": {},
   "outputs": [],
   "source": [
    "api_key = \"q-XLc_Q0rHwzkoZpPnjbAaYBKxGXpTUjOhQhNLB9Gm3z71WFhnxNzpoO7P9bc-cumgFk5rmdPt9s8hedAqD2ubeJpHX6SXLe0k06flM8qLZBa0XrjNcFG3MtykBaYnYx\"\n",
    "headers = {'Authorization': 'Bearer %s' % api_key}"
   ]
  },
  {
   "cell_type": "code",
   "execution_count": 13,
   "metadata": {},
   "outputs": [],
   "source": [
    "url = 'https://api.yelp.com/v3/businesses/search'\n",
    "\n",
    "params = {'term':'seafood', 'location': 'Berkeley', 'radius': 400}"
   ]
  },
  {
   "cell_type": "code",
   "execution_count": 14,
   "metadata": {},
   "outputs": [
    {
     "name": "stdout",
     "output_type": "stream",
     "text": [
      "The status code is 200\n"
     ]
    }
   ],
   "source": [
    "req = requests.get(url, params=params, headers=headers)\n",
    "\n",
    "print('The status code is {}'.format(req.status_code))"
   ]
  },
  {
   "cell_type": "code",
   "execution_count": 15,
   "metadata": {},
   "outputs": [
    {
     "data": {
      "text/plain": [
       "{'businesses': [{'id': '4u-GfbC4CemvpDidsP9OtQ',\n",
       "   'alias': 'china-live-signatures-berkeley',\n",
       "   'name': 'China Live Signatures',\n",
       "   'image_url': 'https://s3-media2.fl.yelpcdn.com/bphoto/ndAudCOQuHM_W64LfAC2oA/o.jpg',\n",
       "   'is_closed': False,\n",
       "   'url': 'https://www.yelp.com/biz/china-live-signatures-berkeley?adjust_creative=VmOKybhNJ2mH-noLOfeSbw&utm_campaign=yelp_api_v3&utm_medium=api_v3_business_search&utm_source=VmOKybhNJ2mH-noLOfeSbw',\n",
       "   'review_count': 8,\n",
       "   'categories': [{'alias': 'dimsum', 'title': 'Dim Sum'},\n",
       "    {'alias': 'fooddeliveryservices', 'title': 'Food Delivery Services'}],\n",
       "   'rating': 1.5,\n",
       "   'coordinates': {'latitude': 37.871027, 'longitude': -122.27463},\n",
       "   'transactions': ['delivery', 'pickup'],\n",
       "   'location': {'address1': '1812 University Ave',\n",
       "    'address2': 'Unit A',\n",
       "    'address3': None,\n",
       "    'city': 'Berkeley',\n",
       "    'zip_code': '94703',\n",
       "    'country': 'US',\n",
       "    'state': 'CA',\n",
       "    'display_address': ['1812 University Ave',\n",
       "     'Unit A',\n",
       "     'Berkeley, CA 94703']},\n",
       "   'phone': '+14159428304',\n",
       "   'display_phone': '(415) 942-8304',\n",
       "   'distance': 269.7814137881963},\n",
       "  {'id': 'TcppFPJuXlWMVAZjo6I5ag',\n",
       "   'alias': 'long-life-vegi-house-berkeley',\n",
       "   'name': 'Long Life Vegi House',\n",
       "   'image_url': 'https://s3-media2.fl.yelpcdn.com/bphoto/Ldt5dByqJSM-NfXhNVQKdQ/o.jpg',\n",
       "   'is_closed': False,\n",
       "   'url': 'https://www.yelp.com/biz/long-life-vegi-house-berkeley?adjust_creative=VmOKybhNJ2mH-noLOfeSbw&utm_campaign=yelp_api_v3&utm_medium=api_v3_business_search&utm_source=VmOKybhNJ2mH-noLOfeSbw',\n",
       "   'review_count': 471,\n",
       "   'categories': [{'alias': 'chinese', 'title': 'Chinese'},\n",
       "    {'alias': 'seafood', 'title': 'Seafood'}],\n",
       "   'rating': 4.0,\n",
       "   'coordinates': {'latitude': 37.8712805, 'longitude': -122.2767756},\n",
       "   'transactions': ['delivery'],\n",
       "   'price': '$',\n",
       "   'location': {'address1': '1725 University Ave',\n",
       "    'address2': '',\n",
       "    'address3': '',\n",
       "    'city': 'Berkeley',\n",
       "    'zip_code': '94703',\n",
       "    'country': 'US',\n",
       "    'state': 'CA',\n",
       "    'display_address': ['1725 University Ave', 'Berkeley, CA 94703']},\n",
       "   'phone': '+15108456072',\n",
       "   'display_phone': '(510) 845-6072',\n",
       "   'distance': 332.05894481373844},\n",
       "  {'id': 'cyx12NEo-7eBz7y4qNWDQA',\n",
       "   'alias': 'downtown-berkeley-farmers-market-berkeley',\n",
       "   'name': \"Downtown Berkeley Farmers' Market\",\n",
       "   'image_url': 'https://s3-media3.fl.yelpcdn.com/bphoto/L5Rebn5N5s1YEap_gStR9A/o.jpg',\n",
       "   'is_closed': False,\n",
       "   'url': 'https://www.yelp.com/biz/downtown-berkeley-farmers-market-berkeley?adjust_creative=VmOKybhNJ2mH-noLOfeSbw&utm_campaign=yelp_api_v3&utm_medium=api_v3_business_search&utm_source=VmOKybhNJ2mH-noLOfeSbw',\n",
       "   'review_count': 152,\n",
       "   'categories': [{'alias': 'farmersmarket', 'title': 'Farmers Market'}],\n",
       "   'rating': 4.0,\n",
       "   'coordinates': {'latitude': 37.869671, 'longitude': -122.272751},\n",
       "   'transactions': [],\n",
       "   'price': '$$',\n",
       "   'location': {'address1': 'Center St And Martin Luther King Jr Way',\n",
       "    'address2': None,\n",
       "    'address3': '',\n",
       "    'city': 'Berkeley',\n",
       "    'zip_code': '94702',\n",
       "    'country': 'US',\n",
       "    'state': 'CA',\n",
       "    'display_address': ['Center St And Martin Luther King Jr Way',\n",
       "     'Berkeley, CA 94702']},\n",
       "   'phone': '+15105483333',\n",
       "   'display_phone': '(510) 548-3333',\n",
       "   'distance': 236.51494073613935},\n",
       "  {'id': 'w131O9tKE9qndwgW7RXSXQ',\n",
       "   'alias': 'trader-joes-berkeley',\n",
       "   'name': \"Trader Joe's\",\n",
       "   'image_url': 'https://s3-media3.fl.yelpcdn.com/bphoto/OkcFejEriIznj5Ny8Slm4A/o.jpg',\n",
       "   'is_closed': False,\n",
       "   'url': 'https://www.yelp.com/biz/trader-joes-berkeley?adjust_creative=VmOKybhNJ2mH-noLOfeSbw&utm_campaign=yelp_api_v3&utm_medium=api_v3_business_search&utm_source=VmOKybhNJ2mH-noLOfeSbw',\n",
       "   'review_count': 259,\n",
       "   'categories': [{'alias': 'grocery', 'title': 'Grocery'}],\n",
       "   'rating': 3.5,\n",
       "   'coordinates': {'latitude': 37.871928, 'longitude': -122.273314},\n",
       "   'transactions': [],\n",
       "   'price': '$$',\n",
       "   'location': {'address1': '1885 University Ave',\n",
       "    'address2': '',\n",
       "    'address3': '',\n",
       "    'city': 'Berkeley',\n",
       "    'zip_code': '94703',\n",
       "    'country': 'US',\n",
       "    'state': 'CA',\n",
       "    'display_address': ['1885 University Ave', 'Berkeley, CA 94703']},\n",
       "   'phone': '+15102049074',\n",
       "   'display_phone': '(510) 204-9074',\n",
       "   'distance': 400.4908992237301},\n",
       "  {'id': 'GQnXtvssGFMmWhY6QjrBJg',\n",
       "   'alias': 'sushi-california-berkeley',\n",
       "   'name': 'Sushi California',\n",
       "   'image_url': 'https://s3-media2.fl.yelpcdn.com/bphoto/AueKniZMKPvBL-mBquBynw/o.jpg',\n",
       "   'is_closed': False,\n",
       "   'url': 'https://www.yelp.com/biz/sushi-california-berkeley?adjust_creative=VmOKybhNJ2mH-noLOfeSbw&utm_campaign=yelp_api_v3&utm_medium=api_v3_business_search&utm_source=VmOKybhNJ2mH-noLOfeSbw',\n",
       "   'review_count': 280,\n",
       "   'categories': [{'alias': 'sushi', 'title': 'Sushi Bars'},\n",
       "    {'alias': 'japanese', 'title': 'Japanese'}],\n",
       "   'rating': 4.0,\n",
       "   'coordinates': {'latitude': 37.871143, 'longitude': -122.2727818},\n",
       "   'transactions': ['delivery'],\n",
       "   'price': '$$',\n",
       "   'location': {'address1': '2033 Martin Luther King Jr Way',\n",
       "    'address2': '',\n",
       "    'address3': '',\n",
       "    'city': 'Berkeley',\n",
       "    'zip_code': '94704',\n",
       "    'country': 'US',\n",
       "    'state': 'CA',\n",
       "    'display_address': ['2033 Martin Luther King Jr Way',\n",
       "     'Berkeley, CA 94704']},\n",
       "   'phone': '+15105480737',\n",
       "   'display_phone': '(510) 548-0737',\n",
       "   'distance': 346.83061869529445}],\n",
       " 'total': 5,\n",
       " 'region': {'center': {'longitude': -122.27508544921875,\n",
       "   'latitude': 37.868608844326545}}}"
      ]
     },
     "execution_count": 15,
     "metadata": {},
     "output_type": "execute_result"
    }
   ],
   "source": [
    "json.loads(req.text)"
   ]
  },
  {
   "cell_type": "code",
   "execution_count": null,
   "metadata": {},
   "outputs": [],
   "source": []
  }
 ],
 "metadata": {
  "kernelspec": {
   "display_name": "Python 3",
   "language": "python",
   "name": "python3"
  },
  "language_info": {
   "codemirror_mode": {
    "name": "ipython",
    "version": 3
   },
   "file_extension": ".py",
   "mimetype": "text/x-python",
   "name": "python",
   "nbconvert_exporter": "python",
   "pygments_lexer": "ipython3",
   "version": "3.8.5"
  }
 },
 "nbformat": 4,
 "nbformat_minor": 4
}
